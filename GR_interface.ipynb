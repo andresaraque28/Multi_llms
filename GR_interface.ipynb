{
 "cells": [
  {
   "cell_type": "code",
   "execution_count": 1,
   "id": "22676f20-1371-48ce-a5c0-b4f8f3bc8087",
   "metadata": {},
   "outputs": [],
   "source": [
    "# crearemos un generador de folletos a partir de ;la pgina web de una empresa\n",
    "#para ello ussaremos web scrapping y llms \n",
    "\n",
    "\n",
    "#importamos la librerias\n",
    "import os\n",
    "from dotenv import load_dotenv\n",
    "from openai import OpenAI\n",
    "import gradio as gr\n",
    "import requests\n",
    "from bs4 import BeautifulSoup\n",
    "import google.generativeai as genai"
   ]
  },
  {
   "cell_type": "code",
   "execution_count": 2,
   "id": "55b5a34f-bacc-48d3-ba7f-d9c31b112d5d",
   "metadata": {},
   "outputs": [
    {
     "name": "stdout",
     "output_type": "stream",
     "text": [
      "OpenAI API Key existe y empieza por sk-proj-\n",
      "Google API Key existe y empieza por AIzaSyAh\n"
     ]
    }
   ],
   "source": [
    "# Cargar variables de entorno en un archivo llamado .env\n",
    "# Imprimir los prefijos de clave para facilitar la depuración\n",
    "\n",
    "load_dotenv()\n",
    "openai_api_key = os.getenv('OPENAI_API_KEY')\n",
    "google_api_key = os.getenv('GOOGLE_API_KEY')\n",
    "\n",
    "if openai_api_key:\n",
    "    print(f\"OpenAI API Key existe y empieza por {openai_api_key[:8]}\")\n",
    "else:\n",
    "    print(\"OpenAI API Key Sin Configurar\")\n",
    "if google_api_key:\n",
    "    print(f\"Google API Key existe y empieza por {google_api_key[:8]}\")\n",
    "else:\n",
    "    print(\"Google API Key Sin Configurar\")"
   ]
  },
  {
   "cell_type": "code",
   "execution_count": 4,
   "id": "a1d4e513-669b-4e0e-b25e-aae5acf04910",
   "metadata": {},
   "outputs": [],
   "source": [
    "# Conéctese a OpenAI y Google\n",
    "\n",
    "openai = OpenAI()\n"
   ]
  },
  {
   "cell_type": "code",
   "execution_count": 5,
   "id": "2d1f32fd-3ef8-4c9c-9378-79e534fc7b6a",
   "metadata": {},
   "outputs": [],
   "source": [
    "# Un mensaje genérico del sistema\n",
    "\n",
    "system_message = \"Eres un asistente útil\""
   ]
  },
  {
   "cell_type": "code",
   "execution_count": 6,
   "id": "ee68def9-f3dc-4dfc-9942-7c64ddcebc67",
   "metadata": {},
   "outputs": [],
   "source": [
    "\n",
    "#en esta clase haremos el web scrapping \n",
    "class Website:\n",
    "    url: str\n",
    "    title: str\n",
    "    text: str\n",
    "\n",
    "    def __init__(self, url):\n",
    "        self.url = url\n",
    "        response = requests.get(url)\n",
    "        self.body = response.content\n",
    "        soup = BeautifulSoup(self.body, 'html.parser')\n",
    "        self.title = soup.title.string if soup.title else \"No se ha encontrado título de la página\"\n",
    "        for irrelevant in soup.body([\"script\", \"style\", \"img\", \"input\"]):\n",
    "            irrelevant.decompose()\n",
    "        self.text = soup.body.get_text(separator=\"\\n\", strip=True)\n",
    "\n",
    "    def get_contents(self):\n",
    "        return f\"Título de la Web:\\n{self.title}\\nContenido de la Web:\\n{self.text}\\n\\n\""
   ]
  },
  {
   "cell_type": "code",
   "execution_count": 7,
   "id": "7df3bddf-092f-496c-bf46-cdb894891d9b",
   "metadata": {},
   "outputs": [],
   "source": [
    "#creamos el mensaje de sismtema\n",
    "\n",
    "system_message = \"Eres un asistente que analiza el contenido de la página de inicio \\\n",
    "del sitio web de una empresa y crea un folleto breve sobre la empresa para posibles clientes, inversores y nuevos empleados.\\\n",
    "Responde en formato Markdown.\""
   ]
  },
  {
   "cell_type": "code",
   "execution_count": 8,
   "id": "bf44a78a-88c8-4dfe-8840-51ce28af15f4",
   "metadata": {},
   "outputs": [],
   "source": [
    "#creamos la funcion para hacer la consulta con openAI\n",
    "\n",
    "def stream_gpt(prompt):\n",
    "    messages = [\n",
    "        {\"role\": \"system\", \"content\": system_message},\n",
    "        {\"role\": \"user\", \"content\": prompt}\n",
    "      ]\n",
    "    stream = openai.chat.completions.create(\n",
    "        model='gpt-4o-mini',\n",
    "        messages=messages,\n",
    "        stream=True\n",
    "    )\n",
    "    result = \"\"\n",
    "    for chunk in stream:  #mostrar la respuesta en stream\n",
    "        result += chunk.choices[0].delta.content or \"\"\n",
    "        yield result"
   ]
  },
  {
   "cell_type": "code",
   "execution_count": 15,
   "id": "17180662-e1fa-441a-b3f9-c20b158a3ff7",
   "metadata": {},
   "outputs": [],
   "source": [
    "#creamos funcion para hacer consulta a google gemini\n",
    "genai.configure(api_key=google_api_key)\n",
    "def stream_gemini(prompt):\n",
    "    \n",
    "\n",
    "    model = genai.GenerativeModel('gemini-1.5-flash')\n",
    "    response = model.generate_content(prompt, stream=True)\n",
    "    result = \"\"\n",
    "    for chunk in response:\n",
    "        result += chunk.text or \"\"\n",
    "        yield result"
   ]
  },
  {
   "cell_type": "code",
   "execution_count": 16,
   "id": "82a1686b-da17-43e4-b1b0-27cec1e6c7c5",
   "metadata": {},
   "outputs": [],
   "source": [
    "def stream_brochure(company_name, url, model):\n",
    "    prompt = f\"Genera un folleto de la empresa {company_name}. Esta es su página de destino:\\n\"    \n",
    "    prompt += Website(url).get_contents()\n",
    "    if model==\"GPT\":\n",
    "        result = stream_gpt(prompt)\n",
    "    elif model==\"Gemini\":\n",
    "        result = stream_gemini(prompt)\n",
    "    else:\n",
    "        raise ValueError(\"Modelo Desconocido\")\n",
    "    yield from result"
   ]
  },
  {
   "cell_type": "code",
   "execution_count": 17,
   "id": "23be8ba0-b349-4e0a-9d4b-de3599c083e2",
   "metadata": {},
   "outputs": [
    {
     "name": "stdout",
     "output_type": "stream",
     "text": [
      "* Running on local URL:  http://127.0.0.1:7862\n",
      "* To create a public link, set `share=True` in `launch()`.\n"
     ]
    },
    {
     "data": {
      "text/html": [
       "<div><iframe src=\"http://127.0.0.1:7862/\" width=\"100%\" height=\"500\" allow=\"autoplay; camera; microphone; clipboard-read; clipboard-write;\" frameborder=\"0\" allowfullscreen></iframe></div>"
      ],
      "text/plain": [
       "<IPython.core.display.HTML object>"
      ]
     },
     "metadata": {},
     "output_type": "display_data"
    },
    {
     "data": {
      "text/plain": []
     },
     "execution_count": 17,
     "metadata": {},
     "output_type": "execute_result"
    }
   ],
   "source": [
    "view = gr.Interface(\n",
    "    fn=stream_brochure,\n",
    "    inputs=[\n",
    "        gr.Textbox(label=\"Nombre de la Empresa:\"),\n",
    "        gr.Textbox(label=\"Landing page, recuerda incluir http:// o https://\"),\n",
    "        gr.Dropdown([\"GPT\", \"Gemini\"], label=\"Selecciona un modelo\")],\n",
    "    outputs=[gr.Markdown(label=\"Folleto:\")],\n",
    "    flagging_mode=\"never\"\n",
    ")\n",
    "view.launch()"
   ]
  },
  {
   "cell_type": "code",
   "execution_count": 18,
   "id": "002a2850-6ae7-4b4b-ab42-8fa313a6db81",
   "metadata": {},
   "outputs": [],
   "source": [
    "#Anadamos ollama a nuestro programa para poder tener un llm que se ejecute de forma local \n",
    "\n",
    "import ollama\n",
    "\n",
    "MODEL = \"gemma3\""
   ]
  },
  {
   "cell_type": "code",
   "execution_count": 26,
   "id": "5fe118e8-03b1-4212-b62a-a3a5b5e6f63e",
   "metadata": {},
   "outputs": [],
   "source": [
    "def stream_llama(prompt):\n",
    "    \n",
    "    mensaje=  [{\"role\": \"user\", \"content\": prompt}]\n",
    "    response = ollama.chat(model=MODEL, messages=mensaje,stream= True)\n",
    "\n",
    "    result = \"\"\n",
    "    for chunk in response:\n",
    "        content = chunk.get(\"message\", {}).get(\"content\", \"\")\n",
    "        result += content\n",
    "        yield result\n",
    "    "
   ]
  },
  {
   "cell_type": "code",
   "execution_count": 29,
   "id": "92abafed-59d0-4702-bfb0-ef8664244c49",
   "metadata": {},
   "outputs": [],
   "source": [
    "def stream_brochure(company_name, url, model):\n",
    "    prompt = f\"Genera un folleto de la empresa {company_name}. Esta es su página de destino:\\n\"    \n",
    "    prompt += Website(url).get_contents()\n",
    "    if model==\"GPT\":\n",
    "        result = stream_gpt(prompt)\n",
    "    elif model==\"Gemini\":\n",
    "        result = stream_gemini(prompt)\n",
    "    elif model== \"Ollama\":\n",
    "        result = stream_llama(prompt)\n",
    "    else:\n",
    "        raise ValueError(\"Modelo Desconocido\")\n",
    "    yield from result"
   ]
  },
  {
   "cell_type": "code",
   "execution_count": 30,
   "id": "bca46cb3-18b5-4319-aad3-31c437b9066b",
   "metadata": {},
   "outputs": [
    {
     "name": "stdout",
     "output_type": "stream",
     "text": [
      "* Running on local URL:  http://127.0.0.1:7866\n",
      "* To create a public link, set `share=True` in `launch()`.\n"
     ]
    },
    {
     "data": {
      "text/html": [
       "<div><iframe src=\"http://127.0.0.1:7866/\" width=\"100%\" height=\"500\" allow=\"autoplay; camera; microphone; clipboard-read; clipboard-write;\" frameborder=\"0\" allowfullscreen></iframe></div>"
      ],
      "text/plain": [
       "<IPython.core.display.HTML object>"
      ]
     },
     "metadata": {},
     "output_type": "display_data"
    },
    {
     "data": {
      "text/plain": []
     },
     "execution_count": 30,
     "metadata": {},
     "output_type": "execute_result"
    }
   ],
   "source": [
    "view = gr.Interface(\n",
    "    fn=stream_brochure,\n",
    "    inputs=[\n",
    "        gr.Textbox(label=\"Nombre de la Empresa:\"),\n",
    "        gr.Textbox(label=\"Landing page, recuerda incluir http:// o https://\"),\n",
    "        gr.Dropdown([\"GPT\", \"Gemini\",\"Ollama\"], label=\"Selecciona un modelo\")],\n",
    "    outputs=[gr.Markdown(label=\"Folleto:\")],\n",
    "    flagging_mode=\"never\"\n",
    ")\n",
    "view.launch()"
   ]
  }
 ],
 "metadata": {
  "kernelspec": {
   "display_name": "Python 3 (ipykernel)",
   "language": "python",
   "name": "python3"
  },
  "language_info": {
   "codemirror_mode": {
    "name": "ipython",
    "version": 3
   },
   "file_extension": ".py",
   "mimetype": "text/x-python",
   "name": "python",
   "nbconvert_exporter": "python",
   "pygments_lexer": "ipython3",
   "version": "3.11.12"
  }
 },
 "nbformat": 4,
 "nbformat_minor": 5
}
